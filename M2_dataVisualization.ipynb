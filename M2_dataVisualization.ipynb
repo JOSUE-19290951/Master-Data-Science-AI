{
  "cells": [
    {
      "cell_type": "markdown",
      "source": [
        "(2022) Josué Daniel Torres Santos\n",
        "\n",
        "Módulo 2: Introducción a la Ciencia de Datos\n",
        "\n",
        "Challenge: Visualización de Datos"
      ],
      "metadata": {
        "id": "fs5wxjoeakzO"
      }
    },
    {
      "cell_type": "markdown",
      "metadata": {
        "id": "VK_8LVfuLTC5"
      },
      "source": [
        "# Challenge: Personas desaparecidas"
      ]
    },
    {
      "cell_type": "code",
      "execution_count": 31,
      "metadata": {
        "colab": {
          "base_uri": "https://localhost:8080/"
        },
        "id": "9I7PcRORC2aT",
        "outputId": "b37cb5d3-ab49-477f-cc99-e873d418f0b7"
      },
      "outputs": [
        {
          "output_type": "stream",
          "name": "stdout",
          "text": [
            "Drive already mounted at /content/drive; to attempt to forcibly remount, call drive.mount(\"/content/drive\", force_remount=True).\n"
          ]
        }
      ],
      "source": [
        "from google.colab import drive\n",
        "drive.mount('/content/drive')"
      ]
    },
    {
      "cell_type": "markdown",
      "metadata": {
        "id": "sncJiaehLTC_"
      },
      "source": [
        "EL siguiente dataset es un conjunto de datos acerca de personas desaperecidas en la república mexicana, del año 2010 al 2015."
      ]
    },
    {
      "cell_type": "markdown",
      "metadata": {
        "id": "pgE01D9bLTDA"
      },
      "source": [
        "### Diccionario de datos:\n",
        "\n",
        "- inegi: Clave dada por el INEGI a cada municipio. Primeros dos dígitos \n",
        "- corresponden al estado, los siguientes tres al municipio\n",
        "- ent: Parte de la clave de INEGI que corresponde a la entidad federativa.\n",
        "- nom_ent: Nombre oficial de la entidad federativa.\n",
        "- year: Año en el que se denunciaron las despariciones\n",
        "- sexo: Sexo de las personas desaparecidas\n",
        "- rango_edad: Rango de edades de las personas en el grupo en cuestión.\n",
        "- pob: Población total del municipio en ese año para ese grupo.\n",
        "- total: Total de personas deparecidas de ese grupo en ese año.\n",
        "- tdes: Tasa de desaparecidos en ese municipio en ese grupo\n",
        "\n",
        "Nota: Recuerda, cada observación corresponde a un grupo de personas desparecidas de un cierto sexo, en un cierto municipio y un cierto rango de edad."
      ]
    },
    {
      "cell_type": "code",
      "execution_count": 32,
      "metadata": {
        "id": "-aemq2L_LTDB"
      },
      "outputs": [],
      "source": [
        "import numpy as np\n",
        "import pandas as pd\n",
        "import matplotlib.pyplot as plt\n",
        "# %matplotlib inline #Se utilizar para mostrar la gráfica inmediatamente después del código \n",
        "import seaborn as sns"
      ]
    },
    {
      "cell_type": "code",
      "execution_count": 33,
      "metadata": {
        "colab": {
          "base_uri": "https://localhost:8080/",
          "height": 424
        },
        "id": "iHPCxK6ULTDC",
        "outputId": "8bc93780-6422-46b5-acbb-277f6f6a8c3f"
      },
      "outputs": [
        {
          "output_type": "execute_result",
          "data": {
            "text/plain": [
              "        inegi  ent         nom_ent  mun                nom_mun  year    sexo  \\\n",
              "0        1001    1  Aguascalientes    1         Aguascalientes  2010  Hombre   \n",
              "1        1001    1  Aguascalientes    1         Aguascalientes  2010  Hombre   \n",
              "2        1001    1  Aguascalientes    1         Aguascalientes  2010  Hombre   \n",
              "3        1001    1  Aguascalientes    1         Aguascalientes  2010  Hombre   \n",
              "4        1001    1  Aguascalientes    1         Aguascalientes  2010  Hombre   \n",
              "...       ...  ...             ...  ...                    ...   ...     ...   \n",
              "176839  32058   32       Zacatecas   58  Santa María de la Paz  2015   Mujer   \n",
              "176840  32058   32       Zacatecas   58  Santa María de la Paz  2015   Mujer   \n",
              "176841  32058   32       Zacatecas   58  Santa María de la Paz  2015   Mujer   \n",
              "176842  32058   32       Zacatecas   58  Santa María de la Paz  2015   Mujer   \n",
              "176843  32058   32       Zacatecas   58  Santa María de la Paz  2015   Mujer   \n",
              "\n",
              "           rango_edad    pob  total  tdes  \n",
              "0         0 a 11 años  95973      1  1.04  \n",
              "1        12 a 17 años  45451      0  0.00  \n",
              "2        18 a 25 años  56448      1  1.77  \n",
              "3        26 a 40 años  86660      0  0.00  \n",
              "4        41 a 64 años  80618      2  2.48  \n",
              "...               ...    ...    ...   ...  \n",
              "176839   12 a 17 años    131      0  0.00  \n",
              "176840   18 a 25 años    139      0  0.00  \n",
              "176841   26 a 40 años    275      0  0.00  \n",
              "176842   41 a 64 años    332      0  0.00  \n",
              "176843  65 o más años    197      0  0.00  \n",
              "\n",
              "[176844 rows x 11 columns]"
            ],
            "text/html": [
              "\n",
              "  <div id=\"df-b0549055-156f-4bae-8b37-192571f7cfb8\">\n",
              "    <div class=\"colab-df-container\">\n",
              "      <div>\n",
              "<style scoped>\n",
              "    .dataframe tbody tr th:only-of-type {\n",
              "        vertical-align: middle;\n",
              "    }\n",
              "\n",
              "    .dataframe tbody tr th {\n",
              "        vertical-align: top;\n",
              "    }\n",
              "\n",
              "    .dataframe thead th {\n",
              "        text-align: right;\n",
              "    }\n",
              "</style>\n",
              "<table border=\"1\" class=\"dataframe\">\n",
              "  <thead>\n",
              "    <tr style=\"text-align: right;\">\n",
              "      <th></th>\n",
              "      <th>inegi</th>\n",
              "      <th>ent</th>\n",
              "      <th>nom_ent</th>\n",
              "      <th>mun</th>\n",
              "      <th>nom_mun</th>\n",
              "      <th>year</th>\n",
              "      <th>sexo</th>\n",
              "      <th>rango_edad</th>\n",
              "      <th>pob</th>\n",
              "      <th>total</th>\n",
              "      <th>tdes</th>\n",
              "    </tr>\n",
              "  </thead>\n",
              "  <tbody>\n",
              "    <tr>\n",
              "      <th>0</th>\n",
              "      <td>1001</td>\n",
              "      <td>1</td>\n",
              "      <td>Aguascalientes</td>\n",
              "      <td>1</td>\n",
              "      <td>Aguascalientes</td>\n",
              "      <td>2010</td>\n",
              "      <td>Hombre</td>\n",
              "      <td>0 a 11 años</td>\n",
              "      <td>95973</td>\n",
              "      <td>1</td>\n",
              "      <td>1.04</td>\n",
              "    </tr>\n",
              "    <tr>\n",
              "      <th>1</th>\n",
              "      <td>1001</td>\n",
              "      <td>1</td>\n",
              "      <td>Aguascalientes</td>\n",
              "      <td>1</td>\n",
              "      <td>Aguascalientes</td>\n",
              "      <td>2010</td>\n",
              "      <td>Hombre</td>\n",
              "      <td>12 a 17 años</td>\n",
              "      <td>45451</td>\n",
              "      <td>0</td>\n",
              "      <td>0.00</td>\n",
              "    </tr>\n",
              "    <tr>\n",
              "      <th>2</th>\n",
              "      <td>1001</td>\n",
              "      <td>1</td>\n",
              "      <td>Aguascalientes</td>\n",
              "      <td>1</td>\n",
              "      <td>Aguascalientes</td>\n",
              "      <td>2010</td>\n",
              "      <td>Hombre</td>\n",
              "      <td>18 a 25 años</td>\n",
              "      <td>56448</td>\n",
              "      <td>1</td>\n",
              "      <td>1.77</td>\n",
              "    </tr>\n",
              "    <tr>\n",
              "      <th>3</th>\n",
              "      <td>1001</td>\n",
              "      <td>1</td>\n",
              "      <td>Aguascalientes</td>\n",
              "      <td>1</td>\n",
              "      <td>Aguascalientes</td>\n",
              "      <td>2010</td>\n",
              "      <td>Hombre</td>\n",
              "      <td>26 a 40 años</td>\n",
              "      <td>86660</td>\n",
              "      <td>0</td>\n",
              "      <td>0.00</td>\n",
              "    </tr>\n",
              "    <tr>\n",
              "      <th>4</th>\n",
              "      <td>1001</td>\n",
              "      <td>1</td>\n",
              "      <td>Aguascalientes</td>\n",
              "      <td>1</td>\n",
              "      <td>Aguascalientes</td>\n",
              "      <td>2010</td>\n",
              "      <td>Hombre</td>\n",
              "      <td>41 a 64 años</td>\n",
              "      <td>80618</td>\n",
              "      <td>2</td>\n",
              "      <td>2.48</td>\n",
              "    </tr>\n",
              "    <tr>\n",
              "      <th>...</th>\n",
              "      <td>...</td>\n",
              "      <td>...</td>\n",
              "      <td>...</td>\n",
              "      <td>...</td>\n",
              "      <td>...</td>\n",
              "      <td>...</td>\n",
              "      <td>...</td>\n",
              "      <td>...</td>\n",
              "      <td>...</td>\n",
              "      <td>...</td>\n",
              "      <td>...</td>\n",
              "    </tr>\n",
              "    <tr>\n",
              "      <th>176839</th>\n",
              "      <td>32058</td>\n",
              "      <td>32</td>\n",
              "      <td>Zacatecas</td>\n",
              "      <td>58</td>\n",
              "      <td>Santa María de la Paz</td>\n",
              "      <td>2015</td>\n",
              "      <td>Mujer</td>\n",
              "      <td>12 a 17 años</td>\n",
              "      <td>131</td>\n",
              "      <td>0</td>\n",
              "      <td>0.00</td>\n",
              "    </tr>\n",
              "    <tr>\n",
              "      <th>176840</th>\n",
              "      <td>32058</td>\n",
              "      <td>32</td>\n",
              "      <td>Zacatecas</td>\n",
              "      <td>58</td>\n",
              "      <td>Santa María de la Paz</td>\n",
              "      <td>2015</td>\n",
              "      <td>Mujer</td>\n",
              "      <td>18 a 25 años</td>\n",
              "      <td>139</td>\n",
              "      <td>0</td>\n",
              "      <td>0.00</td>\n",
              "    </tr>\n",
              "    <tr>\n",
              "      <th>176841</th>\n",
              "      <td>32058</td>\n",
              "      <td>32</td>\n",
              "      <td>Zacatecas</td>\n",
              "      <td>58</td>\n",
              "      <td>Santa María de la Paz</td>\n",
              "      <td>2015</td>\n",
              "      <td>Mujer</td>\n",
              "      <td>26 a 40 años</td>\n",
              "      <td>275</td>\n",
              "      <td>0</td>\n",
              "      <td>0.00</td>\n",
              "    </tr>\n",
              "    <tr>\n",
              "      <th>176842</th>\n",
              "      <td>32058</td>\n",
              "      <td>32</td>\n",
              "      <td>Zacatecas</td>\n",
              "      <td>58</td>\n",
              "      <td>Santa María de la Paz</td>\n",
              "      <td>2015</td>\n",
              "      <td>Mujer</td>\n",
              "      <td>41 a 64 años</td>\n",
              "      <td>332</td>\n",
              "      <td>0</td>\n",
              "      <td>0.00</td>\n",
              "    </tr>\n",
              "    <tr>\n",
              "      <th>176843</th>\n",
              "      <td>32058</td>\n",
              "      <td>32</td>\n",
              "      <td>Zacatecas</td>\n",
              "      <td>58</td>\n",
              "      <td>Santa María de la Paz</td>\n",
              "      <td>2015</td>\n",
              "      <td>Mujer</td>\n",
              "      <td>65 o más años</td>\n",
              "      <td>197</td>\n",
              "      <td>0</td>\n",
              "      <td>0.00</td>\n",
              "    </tr>\n",
              "  </tbody>\n",
              "</table>\n",
              "<p>176844 rows × 11 columns</p>\n",
              "</div>\n",
              "      <button class=\"colab-df-convert\" onclick=\"convertToInteractive('df-b0549055-156f-4bae-8b37-192571f7cfb8')\"\n",
              "              title=\"Convert this dataframe to an interactive table.\"\n",
              "              style=\"display:none;\">\n",
              "        \n",
              "  <svg xmlns=\"http://www.w3.org/2000/svg\" height=\"24px\"viewBox=\"0 0 24 24\"\n",
              "       width=\"24px\">\n",
              "    <path d=\"M0 0h24v24H0V0z\" fill=\"none\"/>\n",
              "    <path d=\"M18.56 5.44l.94 2.06.94-2.06 2.06-.94-2.06-.94-.94-2.06-.94 2.06-2.06.94zm-11 1L8.5 8.5l.94-2.06 2.06-.94-2.06-.94L8.5 2.5l-.94 2.06-2.06.94zm10 10l.94 2.06.94-2.06 2.06-.94-2.06-.94-.94-2.06-.94 2.06-2.06.94z\"/><path d=\"M17.41 7.96l-1.37-1.37c-.4-.4-.92-.59-1.43-.59-.52 0-1.04.2-1.43.59L10.3 9.45l-7.72 7.72c-.78.78-.78 2.05 0 2.83L4 21.41c.39.39.9.59 1.41.59.51 0 1.02-.2 1.41-.59l7.78-7.78 2.81-2.81c.8-.78.8-2.07 0-2.86zM5.41 20L4 18.59l7.72-7.72 1.47 1.35L5.41 20z\"/>\n",
              "  </svg>\n",
              "      </button>\n",
              "      \n",
              "  <style>\n",
              "    .colab-df-container {\n",
              "      display:flex;\n",
              "      flex-wrap:wrap;\n",
              "      gap: 12px;\n",
              "    }\n",
              "\n",
              "    .colab-df-convert {\n",
              "      background-color: #E8F0FE;\n",
              "      border: none;\n",
              "      border-radius: 50%;\n",
              "      cursor: pointer;\n",
              "      display: none;\n",
              "      fill: #1967D2;\n",
              "      height: 32px;\n",
              "      padding: 0 0 0 0;\n",
              "      width: 32px;\n",
              "    }\n",
              "\n",
              "    .colab-df-convert:hover {\n",
              "      background-color: #E2EBFA;\n",
              "      box-shadow: 0px 1px 2px rgba(60, 64, 67, 0.3), 0px 1px 3px 1px rgba(60, 64, 67, 0.15);\n",
              "      fill: #174EA6;\n",
              "    }\n",
              "\n",
              "    [theme=dark] .colab-df-convert {\n",
              "      background-color: #3B4455;\n",
              "      fill: #D2E3FC;\n",
              "    }\n",
              "\n",
              "    [theme=dark] .colab-df-convert:hover {\n",
              "      background-color: #434B5C;\n",
              "      box-shadow: 0px 1px 3px 1px rgba(0, 0, 0, 0.15);\n",
              "      filter: drop-shadow(0px 1px 2px rgba(0, 0, 0, 0.3));\n",
              "      fill: #FFFFFF;\n",
              "    }\n",
              "  </style>\n",
              "\n",
              "      <script>\n",
              "        const buttonEl =\n",
              "          document.querySelector('#df-b0549055-156f-4bae-8b37-192571f7cfb8 button.colab-df-convert');\n",
              "        buttonEl.style.display =\n",
              "          google.colab.kernel.accessAllowed ? 'block' : 'none';\n",
              "\n",
              "        async function convertToInteractive(key) {\n",
              "          const element = document.querySelector('#df-b0549055-156f-4bae-8b37-192571f7cfb8');\n",
              "          const dataTable =\n",
              "            await google.colab.kernel.invokeFunction('convertToInteractive',\n",
              "                                                     [key], {});\n",
              "          if (!dataTable) return;\n",
              "\n",
              "          const docLinkHtml = 'Like what you see? Visit the ' +\n",
              "            '<a target=\"_blank\" href=https://colab.research.google.com/notebooks/data_table.ipynb>data table notebook</a>'\n",
              "            + ' to learn more about interactive tables.';\n",
              "          element.innerHTML = '';\n",
              "          dataTable['output_type'] = 'display_data';\n",
              "          await google.colab.output.renderOutput(dataTable, element);\n",
              "          const docLink = document.createElement('div');\n",
              "          docLink.innerHTML = docLinkHtml;\n",
              "          element.appendChild(docLink);\n",
              "        }\n",
              "      </script>\n",
              "    </div>\n",
              "  </div>\n",
              "  "
            ]
          },
          "metadata": {},
          "execution_count": 33
        }
      ],
      "source": [
        "df = pd.read_csv(\"/content/drive/MyDrive/0. Master en DS+AI/0. Presentaciones y ejercicios/1. Introducción a la Ciencia de Datos/5. Data Visualization/data/rnped_limpia.csv\")\n",
        "df"
      ]
    },
    {
      "cell_type": "markdown",
      "metadata": {
        "id": "eOCMveMeLTDD"
      },
      "source": [
        "## Instrucciones\n",
        "Hay 3 preguntas clave que podemos responder con estos datos.\n",
        "\n",
        "1. ¿Cuántos desaparecidos hubo por municipio en...2011 (año más violento)?\n",
        "2. ¿Cuál es el porcentaje de desaparecidos por entidad en el año 2011?\n",
        "3. ¿Cuál es la tendencia de la tasa de desaparecidos en los años del 2010 al 2015 tomando en cuenta una línea por cada género?"
      ]
    },
    {
      "cell_type": "markdown",
      "metadata": {
        "id": "44NQMKAILTDD"
      },
      "source": [
        "#### Pregunta 1: ¿Cuántos desaparecidos hubo por municipio en...2011 (año más violento)?\n",
        "Esta primera gráfica será un scatter, pero que va a cumplir la función de las barras dado que vamos a graficar 2,456 municipios"
      ]
    },
    {
      "cell_type": "markdown",
      "metadata": {
        "id": "6wN5zOHFLTDE"
      },
      "source": [
        "<img src=\"https://storage.googleapis.com/campus-cvs/lectures/4.1%20DataVizChallenge2-1.png\" alt=\"scatter plot\" title=\"Total de desaparecidos por municipio\" width=\"850\" height=\"400\" />"
      ]
    },
    {
      "cell_type": "code",
      "execution_count": 34,
      "metadata": {
        "id": "3Bp3-2-vUXVF"
      },
      "outputs": [],
      "source": [
        "#codigo aqui\n",
        "#¿Cuántos desaparecidos hubo por municipio en...2011 (año más violento)?\n",
        "df1 = df.copy()\n",
        "cond1 = df1.loc[:,'year'] ==2011\n",
        "df1=df1[cond1]"
      ]
    },
    {
      "cell_type": "code",
      "source": [
        "df1=df1[['nom_mun','total']]\n",
        "group1 = df1.groupby('nom_mun', as_index=False).sum()"
      ],
      "metadata": {
        "id": "xBqxEMYGA5pe"
      },
      "execution_count": 35,
      "outputs": []
    },
    {
      "cell_type": "code",
      "source": [
        "plt.figure(figsize=(20,12)) \n",
        "graf1=plt.scatter(x='nom_mun', y='total', data=group1, c=\"green\", marker=\"*\")\n",
        "plt.title=('Total de desaparecidos por municipio en 2011')\n",
        "plt.xlabel('Municipio', fontsize=18)\n",
        "plt.ylabel('Número de desaparecidos',fontsize=18)"
      ],
      "metadata": {
        "colab": {
          "base_uri": "https://localhost:8080/",
          "height": 741
        },
        "id": "ZRh5WC1v8cdh",
        "outputId": "94f5ab76-7e18-4906-d726-f75d5b42fbec"
      },
      "execution_count": 43,
      "outputs": [
        {
          "output_type": "execute_result",
          "data": {
            "text/plain": [
              "Text(0, 0.5, 'Número de desaparecidos')"
            ]
          },
          "metadata": {},
          "execution_count": 43
        },
        {
          "output_type": "display_data",
          "data": {
            "text/plain": [
              "<Figure size 1440x864 with 1 Axes>"
            ],
            "image/png": "[encoded data removed]"
          },
          "metadata": {
            "needs_background": "light"
          }
        }
      ]
    },
    {
      "cell_type": "markdown",
      "metadata": {
        "id": "sZ4xeuFpLTDF"
      },
      "source": [
        "## Pregunta 2: ¿Cuál es la tendencia de la tasa de desaparecidos en los años del 2010 al 2015 tomando en cuenta una línea por cada género?\n",
        "Esta gráfica será una gráfica línea. Lo importante es conocer la diferencia en las tasas de desaparecidos por cada año y cada línea debe corresponder a un género."
      ]
    },
    {
      "cell_type": "markdown",
      "metadata": {
        "id": "jb7WMY-oLTDG"
      },
      "source": [
        "<img src=\"https://storage.googleapis.com/campus-cvs/lectures/4.1%20DataVizChallenge2-3.png\" alt=\"scatter plot\" title=\"Total de desaparecidos por municipio\" width=\"850\" height=\"400\" />"
      ]
    },
    {
      "cell_type": "code",
      "execution_count": 37,
      "metadata": {
        "id": "20j8VwAPUdZX"
      },
      "outputs": [],
      "source": [
        "#codigo aqui\n",
        "df2 = df.copy()\n",
        "cond1 = df2.loc[:,'year'] >=2010\n",
        "cond2 = df2.loc[:,'year'] <=2015\n",
        "df2=df2[(cond1)&(cond2)]\n"
      ]
    },
    {
      "cell_type": "code",
      "source": [
        "df2=df2[['year','total','sexo']]\n",
        "\n",
        "agrup2 = df2.groupby(['sexo','year'], as_index=False).sum()"
      ],
      "metadata": {
        "id": "NmR_N9oC3SGM"
      },
      "execution_count": 38,
      "outputs": []
    },
    {
      "cell_type": "code",
      "source": [
        "plt.figure(figsize=(14,8)) \n",
        "sns.catplot(x=\"year\", y=\"total\", hue=\"sexo\",\n",
        "            palette=\"flare\",\n",
        "            markers=[\"o\", \"o\"], linestyles=[\"-\", \"-\"],\n",
        "            kind=\"point\",  aspect=2, data=agrup2)\n",
        "plt.xlabel(\"Año\",fontsize = 15)\n",
        "plt.ylabel(\"Total de desaparecidos\",fontsize = 16)"
      ],
      "metadata": {
        "colab": {
          "base_uri": "https://localhost:8080/",
          "height": 409
        },
        "id": "4eENzLu6E7UY",
        "outputId": "18ff5fd1-0708-4d87-ddd3-48f30a6120d4"
      },
      "execution_count": 39,
      "outputs": [
        {
          "output_type": "execute_result",
          "data": {
            "text/plain": [
              "Text(26.772421874999992, 0.5, 'Total de desaparecidos')"
            ]
          },
          "metadata": {},
          "execution_count": 39
        },
        {
          "output_type": "display_data",
          "data": {
            "text/plain": [
              "<Figure size 1008x576 with 0 Axes>"
            ]
          },
          "metadata": {}
        },
        {
          "output_type": "display_data",
          "data": {
            "text/plain": [
              "<Figure size 795.375x360 with 1 Axes>"
            ],
            "image/png": "[encoded data removed]"
          },
          "metadata": {
            "needs_background": "light"
          }
        }
      ]
    },
    {
      "cell_type": "markdown",
      "metadata": {
        "id": "xgZWrRq7LTDG"
      },
      "source": [
        "## Pregunta 3: ¿Cuál es la tasa de desaparecidos por género y rango de edad?\n",
        "Esta gráfica queda a elección del alumno. Como sugerencia, puede utilizar un mapa de calor."
      ]
    },
    {
      "cell_type": "markdown",
      "metadata": {
        "id": "Bnb3tfkRLTDG"
      },
      "source": [
        "<img src=\"https://storage.googleapis.com/campus-cvs/lectures/4.1%20DataVizChallenge3-3.png\" alt=\"scatter plot\" title=\"Total de desaparecidos por municipio\" width=\"850\" height=\"400\" />"
      ]
    },
    {
      "cell_type": "code",
      "execution_count": 40,
      "metadata": {
        "id": "vqRQpvoHUeQx",
        "colab": {
          "base_uri": "https://localhost:8080/",
          "height": 269
        },
        "outputId": "1b968a6a-080d-4066-c5f4-0ce4efae07ca"
      },
      "outputs": [
        {
          "output_type": "execute_result",
          "data": {
            "text/plain": [
              "sexo           Hombre  Mujer\n",
              "rango_edad                  \n",
              "0 a 11 años       282    242\n",
              "12 a 17 años     1160   1539\n",
              "18 a 25 años     3343   1086\n",
              "26 a 40 años     6100   1046\n",
              "41 a 64 años     3267    441\n",
              "65 o más años     518     89"
            ],
            "text/html": [
              "\n",
              "  <div id=\"df-bd6b54aa-a66c-4804-84ee-59d8d0625c19\">\n",
              "    <div class=\"colab-df-container\">\n",
              "      <div>\n",
              "<style scoped>\n",
              "    .dataframe tbody tr th:only-of-type {\n",
              "        vertical-align: middle;\n",
              "    }\n",
              "\n",
              "    .dataframe tbody tr th {\n",
              "        vertical-align: top;\n",
              "    }\n",
              "\n",
              "    .dataframe thead th {\n",
              "        text-align: right;\n",
              "    }\n",
              "</style>\n",
              "<table border=\"1\" class=\"dataframe\">\n",
              "  <thead>\n",
              "    <tr style=\"text-align: right;\">\n",
              "      <th>sexo</th>\n",
              "      <th>Hombre</th>\n",
              "      <th>Mujer</th>\n",
              "    </tr>\n",
              "    <tr>\n",
              "      <th>rango_edad</th>\n",
              "      <th></th>\n",
              "      <th></th>\n",
              "    </tr>\n",
              "  </thead>\n",
              "  <tbody>\n",
              "    <tr>\n",
              "      <th>0 a 11 años</th>\n",
              "      <td>282</td>\n",
              "      <td>242</td>\n",
              "    </tr>\n",
              "    <tr>\n",
              "      <th>12 a 17 años</th>\n",
              "      <td>1160</td>\n",
              "      <td>1539</td>\n",
              "    </tr>\n",
              "    <tr>\n",
              "      <th>18 a 25 años</th>\n",
              "      <td>3343</td>\n",
              "      <td>1086</td>\n",
              "    </tr>\n",
              "    <tr>\n",
              "      <th>26 a 40 años</th>\n",
              "      <td>6100</td>\n",
              "      <td>1046</td>\n",
              "    </tr>\n",
              "    <tr>\n",
              "      <th>41 a 64 años</th>\n",
              "      <td>3267</td>\n",
              "      <td>441</td>\n",
              "    </tr>\n",
              "    <tr>\n",
              "      <th>65 o más años</th>\n",
              "      <td>518</td>\n",
              "      <td>89</td>\n",
              "    </tr>\n",
              "  </tbody>\n",
              "</table>\n",
              "</div>\n",
              "      <button class=\"colab-df-convert\" onclick=\"convertToInteractive('df-bd6b54aa-a66c-4804-84ee-59d8d0625c19')\"\n",
              "              title=\"Convert this dataframe to an interactive table.\"\n",
              "              style=\"display:none;\">\n",
              "        \n",
              "  <svg xmlns=\"http://www.w3.org/2000/svg\" height=\"24px\"viewBox=\"0 0 24 24\"\n",
              "       width=\"24px\">\n",
              "    <path d=\"M0 0h24v24H0V0z\" fill=\"none\"/>\n",
              "    <path d=\"M18.56 5.44l.94 2.06.94-2.06 2.06-.94-2.06-.94-.94-2.06-.94 2.06-2.06.94zm-11 1L8.5 8.5l.94-2.06 2.06-.94-2.06-.94L8.5 2.5l-.94 2.06-2.06.94zm10 10l.94 2.06.94-2.06 2.06-.94-2.06-.94-.94-2.06-.94 2.06-2.06.94z\"/><path d=\"M17.41 7.96l-1.37-1.37c-.4-.4-.92-.59-1.43-.59-.52 0-1.04.2-1.43.59L10.3 9.45l-7.72 7.72c-.78.78-.78 2.05 0 2.83L4 21.41c.39.39.9.59 1.41.59.51 0 1.02-.2 1.41-.59l7.78-7.78 2.81-2.81c.8-.78.8-2.07 0-2.86zM5.41 20L4 18.59l7.72-7.72 1.47 1.35L5.41 20z\"/>\n",
              "  </svg>\n",
              "      </button>\n",
              "      \n",
              "  <style>\n",
              "    .colab-df-container {\n",
              "      display:flex;\n",
              "      flex-wrap:wrap;\n",
              "      gap: 12px;\n",
              "    }\n",
              "\n",
              "    .colab-df-convert {\n",
              "      background-color: #E8F0FE;\n",
              "      border: none;\n",
              "      border-radius: 50%;\n",
              "      cursor: pointer;\n",
              "      display: none;\n",
              "      fill: #1967D2;\n",
              "      height: 32px;\n",
              "      padding: 0 0 0 0;\n",
              "      width: 32px;\n",
              "    }\n",
              "\n",
              "    .colab-df-convert:hover {\n",
              "      background-color: #E2EBFA;\n",
              "      box-shadow: 0px 1px 2px rgba(60, 64, 67, 0.3), 0px 1px 3px 1px rgba(60, 64, 67, 0.15);\n",
              "      fill: #174EA6;\n",
              "    }\n",
              "\n",
              "    [theme=dark] .colab-df-convert {\n",
              "      background-color: #3B4455;\n",
              "      fill: #D2E3FC;\n",
              "    }\n",
              "\n",
              "    [theme=dark] .colab-df-convert:hover {\n",
              "      background-color: #434B5C;\n",
              "      box-shadow: 0px 1px 3px 1px rgba(0, 0, 0, 0.15);\n",
              "      filter: drop-shadow(0px 1px 2px rgba(0, 0, 0, 0.3));\n",
              "      fill: #FFFFFF;\n",
              "    }\n",
              "  </style>\n",
              "\n",
              "      <script>\n",
              "        const buttonEl =\n",
              "          document.querySelector('#df-bd6b54aa-a66c-4804-84ee-59d8d0625c19 button.colab-df-convert');\n",
              "        buttonEl.style.display =\n",
              "          google.colab.kernel.accessAllowed ? 'block' : 'none';\n",
              "\n",
              "        async function convertToInteractive(key) {\n",
              "          const element = document.querySelector('#df-bd6b54aa-a66c-4804-84ee-59d8d0625c19');\n",
              "          const dataTable =\n",
              "            await google.colab.kernel.invokeFunction('convertToInteractive',\n",
              "                                                     [key], {});\n",
              "          if (!dataTable) return;\n",
              "\n",
              "          const docLinkHtml = 'Like what you see? Visit the ' +\n",
              "            '<a target=\"_blank\" href=https://colab.research.google.com/notebooks/data_table.ipynb>data table notebook</a>'\n",
              "            + ' to learn more about interactive tables.';\n",
              "          element.innerHTML = '';\n",
              "          dataTable['output_type'] = 'display_data';\n",
              "          await google.colab.output.renderOutput(dataTable, element);\n",
              "          const docLink = document.createElement('div');\n",
              "          docLink.innerHTML = docLinkHtml;\n",
              "          element.appendChild(docLink);\n",
              "        }\n",
              "      </script>\n",
              "    </div>\n",
              "  </div>\n",
              "  "
            ]
          },
          "metadata": {},
          "execution_count": 40
        }
      ],
      "source": [
        "#codigo aqui\n",
        "df3 = df.copy()\n",
        "df3=df3[['rango_edad','total','sexo']]\n",
        "agrup3 = df3.groupby(['rango_edad','sexo'], as_index=False).sum()\n",
        "agrup3 = agrup3.pivot('rango_edad','sexo','total')\n",
        "agrup3"
      ]
    },
    {
      "cell_type": "code",
      "source": [
        "plt.figure(figsize=(15,10)) \n",
        "agraf3 = sns.heatmap(agrup3, cmap=\"flare\",\n",
        "                     linewidths=.5,annot=True,\n",
        "                     fmt=\"d\")\n",
        "plt.xlabel(\"Sexo\",fontsize = 17)\n",
        "plt.ylabel(\"Edad\",fontsize = 17)"
      ],
      "metadata": {
        "colab": {
          "base_uri": "https://localhost:8080/",
          "height": 631
        },
        "id": "DDaZKKrsPO2d",
        "outputId": "217acede-f6ed-40a2-dfba-0dcde812f5ca"
      },
      "execution_count": 41,
      "outputs": [
        {
          "output_type": "execute_result",
          "data": {
            "text/plain": [
              "Text(114.0, 0.5, 'Edad')"
            ]
          },
          "metadata": {},
          "execution_count": 41
        },
        {
          "output_type": "display_data",
          "data": {
            "text/plain": [
              "<Figure size 1080x720 with 2 Axes>"
            ],
            "image/png": "[encoded data removed]"
          },
          "metadata": {
            "needs_background": "light"
          }
        }
      ]
    }
  ],
  "metadata": {
    "colab": {
      "collapsed_sections": [],
      "name": "M2_dataVisualization.ipynb",
      "provenance": []
    },
    "kernelspec": {
      "display_name": "Python 3",
      "language": "python",
      "name": "python3"
    },
    "language_info": {
      "codemirror_mode": {
        "name": "ipython",
        "version": 3
      },
      "file_extension": ".py",
      "mimetype": "text/x-python",
      "name": "python",
      "nbconvert_exporter": "python",
      "pygments_lexer": "ipython3",
      "version": "3.8.5"
    }
  },
  "nbformat": 4,
  "nbformat_minor": 0
}