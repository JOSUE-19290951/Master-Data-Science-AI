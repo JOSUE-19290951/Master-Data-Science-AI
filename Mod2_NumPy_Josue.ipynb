{
  "nbformat": 4,
  "nbformat_minor": 0,
  "metadata": {
    "celltoolbar": "Create Assignment",
    "kernelspec": {
      "display_name": "Python 3",
      "language": "python",
      "name": "python3"
    },
    "language_info": {
      "codemirror_mode": {
        "name": "ipython",
        "version": 3
      },
      "file_extension": ".py",
      "mimetype": "text/x-python",
      "name": "python",
      "nbconvert_exporter": "python",
      "pygments_lexer": "ipython3",
      "version": "3.8.8"
    },
    "colab": {
      "name": "Mod2_NumPy_Josue.ipynb",
      "provenance": [],
      "collapsed_sections": []
    }
  },
  "cells": [
    {
      "cell_type": "markdown",
      "metadata": {
        "id": "vxaJjqJur_lZ"
      },
      "source": [
        "(2022) Josue Daniel Torres Santos\n",
        "\n",
        "Modulo 2. Introduccion a la Ciencia de Datos\n",
        "\n",
        "Numpy"
      ]
    },
    {
      "cell_type": "markdown",
      "metadata": {
        "id": "pzK3F5-Zr_li"
      },
      "source": [
        "# Numpy Exercises"
      ]
    },
    {
      "cell_type": "markdown",
      "metadata": {
        "id": "AxgbvcSer_lj"
      },
      "source": [
        "Vamos a resolver algunos ejercicios sencillos con Numpy."
      ]
    },
    {
      "cell_type": "code",
      "metadata": {
        "id": "hATxv-Xar_lk"
      },
      "source": [
        "import numpy as np\n",
        "\n",
        "# Definimos un vector\n",
        "x = np.array([1, 2, 3, 4, 5])\n",
        "# Y una matriz\n",
        "m = np.array([[1, 2, 3],[4, 5, 6,], [7, 8, 9]])"
      ],
      "execution_count": null,
      "outputs": []
    },
    {
      "cell_type": "markdown",
      "metadata": {
        "id": "p21wtQc_r_ll"
      },
      "source": [
        "Una operación común que querrá hacer con\n",
        "vectores o matrices es sumar cada elemento.\n",
        "La notación puede dar miedo, pero en realidad es\n",
        "bastante simple:\n",
        "$$\n",
        "\\sum_{i,j = 1}^n m_{ij}\n",
        "$$\n",
        "El símbolo $\\Sigma$ es $\\sigma$ mayúscula\n",
        "y se llama \"sigma\". Significa que para alguna matriz $m$, donde $i$ representa una fila y $j$ representa una columna, sume todos los elementos. $n$ se refiere al número de elementos de la variable $m$.\n",
        "\n",
        "Aunque puede implementar esta operación usando un bucle for, NumPy lo hace fácil al proporcionar un método `sum`.\n",
        "\n",
        "Intente implementarlo ahora `m.sum ()`, debes obetener el valor 45."
      ]
    },
    {
      "cell_type": "code",
      "metadata": {
        "nbgrader": {
          "grade": false,
          "grade_id": "cell-5d4dc90f4acbb3fb",
          "locked": false,
          "schema_version": 3,
          "solution": true,
          "task": false
        },
        "id": "DjXqBtW_r_lt",
        "outputId": "d10c2475-e614-4103-a157-cd80b9c05328",
        "colab": {
          "base_uri": "https://localhost:8080/"
        }
      },
      "source": [
        "m.sum()"
      ],
      "execution_count": null,
      "outputs": [
        {
          "output_type": "execute_result",
          "data": {
            "text/plain": [
              "45"
            ]
          },
          "metadata": {},
          "execution_count": 2
        }
      ]
    },
    {
      "cell_type": "markdown",
      "metadata": {
        "id": "cTb-EvJVr_l1"
      },
      "source": [
        "Otra operación común es multiplicar cada\n",
        "valor en un vector o matriz. Esto parece\n",
        "esto:\n",
        "$$\n",
        "\\prod_{i,j=1}^n m_{ij}\n",
        "$$\n",
        "\n",
        "El símbolo $\\Pi$ es un símbolo $\\pi$ mayúscula, pronunciado \"pi\". Implemente esta ecuación de manera similar usando la función `prod`, debe obtener 362880. "
      ]
    },
    {
      "cell_type": "code",
      "metadata": {
        "nbgrader": {
          "grade": false,
          "grade_id": "cell-2eb086246d923c4a",
          "locked": false,
          "schema_version": 3,
          "solution": true,
          "task": false
        },
        "id": "JEaTfw6ir_l2",
        "colab": {
          "base_uri": "https://localhost:8080/"
        },
        "outputId": "c6d72bf1-c5df-45de-d0c8-099be8d65696"
      },
      "source": [
        "m.prod()"
      ],
      "execution_count": null,
      "outputs": [
        {
          "output_type": "execute_result",
          "data": {
            "text/plain": [
              "362880"
            ]
          },
          "metadata": {},
          "execution_count": 3
        }
      ]
    },
    {
      "cell_type": "markdown",
      "metadata": {
        "id": "AY0g9wEcr_l3"
      },
      "source": [
        "¡Estupendo! Ahora está listo para implementar algunos\n",
        "ecuaciones básicas! Empecemos con la\n",
        "media aritmética:\n",
        "$$\n",
        "\\bar{x} = \\frac{1}{n}\\times \\sum_{i=1}^n x_i\n",
        "$$\n",
        "\n",
        "Esto simplemente significa agregar cada elemento de un\n",
        "lista y dividiendo el resultado por el número de\n",
        "elementos en $ x $. Una barra sobre una variable ($ \\bar {x} $) se refiere a un tipo de media.\n",
        "\n",
        "**Hint:** Puedes obtener la cantidad de elementos\n",
        "en una matriz en NumPy con `x.size` ..\n",
        "\n",
        "\n",
        "Comúnmente conocido como: PROMEDIO"
      ]
    },
    {
      "cell_type": "code",
      "metadata": {
        "nbgrader": {
          "grade": false,
          "grade_id": "cell-3d867ae3bcaefbfc",
          "locked": false,
          "schema_version": 3,
          "solution": true,
          "task": false
        },
        "id": "Fjqiqnp0r_l3",
        "outputId": "76c7cc1e-15c3-45d0-bd84-0f21a7a3c717",
        "colab": {
          "base_uri": "https://localhost:8080/"
        }
      },
      "source": [
        "# Calcula la MEDIA ARITMETICA y guardala en la variable 'mean' \n",
        "mean = 0\n",
        "\n",
        "### Codea aqui\n",
        "mean = x.sum() / x.size\n",
        "print(f'Calulaste una media de {mean}, debería ser 3.0')"
      ],
      "execution_count": null,
      "outputs": [
        {
          "output_type": "stream",
          "name": "stdout",
          "text": [
            "Calulaste una media de 3.0, debería ser 3.0\n"
          ]
        }
      ]
    },
    {
      "cell_type": "markdown",
      "metadata": {
        "id": "gC5d3CZpr_l4"
      },
      "source": [
        "¡Buen trabajo! Ahora implementemos algo conocido\n",
        "como la norma Frobenius (Euclidean norm, norma de un vector, distancia entre dos puntos):\n",
        "$$\n",
        "\\Vert m \\Vert_F = \\left(\n",
        "    \\sum_{i,j=1}^n m_{ij}^2\n",
        "    \\right)^{1/2}\n",
        "$$\n",
        "\n",
        "**Hint:** Puede implementar esto de varias formas, usando operadores (`**`), funciones (`np.sqrt`) y métodos (` .sum`)."
      ]
    },
    {
      "cell_type": "code",
      "metadata": {
        "nbgrader": {
          "grade": false,
          "grade_id": "cell-be7bfeba5b0e4093",
          "locked": false,
          "schema_version": 3,
          "solution": true,
          "task": false
        },
        "id": "AmQ9_LTQr_l5",
        "outputId": "21695e31-d1c9-4944-807f-5ee914b1bef8",
        "colab": {
          "base_uri": "https://localhost:8080/"
        }
      },
      "source": [
        "# Calcula la NORMA DE FROBENIUS y guardala en la variable f_norm\n",
        "f_norm = 0\n",
        "\n",
        "### Codea Aqui\n",
        "f_norm = np.sqrt(np.sum(np.square(m)))\n",
        "print(f'La norma Frobenius que encontraste es {round(f_norm, 4)}, y esta debe de ser 16.8819')"
      ],
      "execution_count": null,
      "outputs": [
        {
          "output_type": "stream",
          "name": "stdout",
          "text": [
            "La norma Frobenius que encontraste es 16.8819, y esta debe de ser 16.8819\n"
          ]
        }
      ]
    },
    {
      "cell_type": "markdown",
      "metadata": {
        "id": "lxK7XOV_r_l6"
      },
      "source": [
        "¡Perfecto! Ahora, para su desafío final, implementemos la desviación estándar:\n",
        "$$\n",
        "\\sqrt{\\frac{1}{n-1}\\sum_{i=1}^n (x_i - \\bar{x})^2}\n",
        "$$\n",
        "\n",
        "Recuerde que $ \\bar {x} $ se refiere a la media aritmética de $ x $.\n",
        "En lugar de implementarlo desde cero, simplemente puede llamar a `x.mean ()`.\n"
      ]
    },
    {
      "cell_type": "code",
      "metadata": {
        "nbgrader": {
          "grade": false,
          "grade_id": "cell-16451545cc244d1a",
          "locked": false,
          "schema_version": 3,
          "solution": true,
          "task": false
        },
        "id": "xqQR2WgYr_l7"
      },
      "source": [
        "# Calcula la DESVIACION ESTANDAR y guardala en la variable 'sd'\n",
        "sd = 0\n",
        "\n",
        "### Codea Aqui\n",
        "\n",
        "mean = x.mean()\n",
        "var = np.sum((i-mean)**2 for i in x) / (x.size-1)\n",
        "sd = np.sqrt(var)\n",
        "print(f'Has encontrado que la desviacion estandar es {round(sd, 4)}, y justo esta debia de ser 1.5811')"
      ],
      "execution_count": null,
      "outputs": []
    },
    {
      "cell_type": "markdown",
      "metadata": {
        "id": "S8CHM9cer_mG"
      },
      "source": [
        "Como un último reto, vamos a calcular una matriz de distancias en numpy.\n",
        "Implementa una función que tome como entrada una matrix de datos, donde cada fila es una observación y cada columna una variable, y devuelva otra matriz, la matriz de distancias.\n",
        "\n",
        "La matriz de distancias es muy utilizado en algoritmos de aprendizaje y tiene la siguiente forma:\n",
        "\n",
        "$$\n",
        "D = \\begin{pmatrix}\n",
        "d(x_1,x_1) & d(x_1,x_2) & \\dots & d(x_1,x_n)\\\\\n",
        "d(x_2,x_1) & d(x_2,x_2) & \\dots & d(x_2,x_n)\\\\\n",
        "\\vdots & \\vdots & \\ddots & \\vdots\\\\\n",
        "d(x_n,x_1) & d(x_n,x_2) & \\dots & d(x_n,x_n)\n",
        "\\end{pmatrix}\n",
        "$$\n",
        "\n",
        "Es una matrix NxN, donde N es el número de observaciones en la matriz de datos. Cada entrada de la matriz $d(x_i,x_j)$ es la distancia entre observación $i$ y $j$, y se calcula como\n",
        "\n",
        "$$\n",
        "d(x_i,x_j) = \\sqrt{\\sum_l (x_{il} - x_{jl})^2}\n",
        "$$\n",
        "\n",
        "Es decir, resta cada variable, elemento por elemento, de los vectores de observación, eleva las restas al cuadrado y suma todas. Al final saca la raíz. Esta es la distancia euclidiana o norma-2.\n",
        "\n",
        "Una de las maneras mas eficientes en computo, aunque no en memoria, es hacer un broadcast en 3D, aunque no es la única manera."
      ]
    },
    {
      "cell_type": "code",
      "metadata": {
        "id": "1TRYNU_Yr_mI",
        "colab": {
          "base_uri": "https://localhost:8080/"
        },
        "outputId": "3d06d91c-ec22-4dc9-c6da-59b932855dfa"
      },
      "source": [
        "def distance_matrix(X):\n",
        "    \"\"\"Retorna la DISTANCIA EUCLIDIANA entre los puntos (datos) de la matriz X. \"\"\"\n",
        "    \n",
        "    # Codea aquí\n",
        "    row = m.shape[0]\n",
        "    cols = m.shape[1] \n",
        "    D = np.zeros((row,cols))\n",
        "     \n",
        "    for i, x1 in enumerate(X):          \n",
        "      for j, x2 in enumerate(X):\n",
        "        D[i,j] = np.sqrt(np.sum((x1 - x2)**2))\n",
        "    return D\n",
        "\n",
        "aa = np.array(m)\n",
        "\n",
        "distance_matrix(aa)"
      ],
      "execution_count": 60,
      "outputs": [
        {
          "output_type": "execute_result",
          "data": {
            "text/plain": [
              "array([[ 0.        ,  5.19615242, 10.39230485],\n",
              "       [ 5.19615242,  0.        ,  5.19615242],\n",
              "       [10.39230485,  5.19615242,  0.        ]])"
            ]
          },
          "metadata": {},
          "execution_count": 60
        }
      ]
    },
    {
      "cell_type": "markdown",
      "metadata": {
        "id": "8_zQWY4Cr_mI"
      },
      "source": [
        "## References\n",
        "- Adapted from: https://mathtocode.com/ by Vernon Thommeret"
      ]
    }
  ]
}