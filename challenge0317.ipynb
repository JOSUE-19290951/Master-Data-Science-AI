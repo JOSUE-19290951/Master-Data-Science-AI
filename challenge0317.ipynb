{
  "nbformat": 4,
  "nbformat_minor": 0,
  "metadata": {
    "colab": {
      "name": "challenge0317.ipynb",
      "provenance": [],
      "collapsed_sections": [],
      "authorship_tag": "ABX9TyMbIaa2NIEC5AYGdkWW73s2",
      "include_colab_link": true
    },
    "kernelspec": {
      "name": "python3",
      "display_name": "Python 3"
    },
    "language_info": {
      "name": "python"
    }
  },
  "cells": [
    {
      "cell_type": "markdown",
      "metadata": {
        "id": "view-in-github",
        "colab_type": "text"
      },
      "source": [
        "<a href=\"https://colab.research.google.com/github/JOSUE-19290951/Master-Data-Science-AI/blob/main/challenge0317.ipynb\" target=\"_parent\"><img src=\"https://colab.research.google.com/assets/colab-badge.svg\" alt=\"Open In Colab\"/></a>"
      ]
    },
    {
      "cell_type": "markdown",
      "source": [
        "1. Write a Python function to find the Max of three numbers."
      ],
      "metadata": {
        "id": "nYwgKIkY-1iU"
      }
    },
    {
      "cell_type": "code",
      "execution_count": 21,
      "metadata": {
        "id": "IxGF5dvs3aiQ"
      },
      "outputs": [],
      "source": [
        "def maximum(a,b,c):\n",
        "  return max(a,b,c)"
      ]
    },
    {
      "cell_type": "markdown",
      "source": [
        "Write a Python function to sum all the numbers in a list.\n",
        "\n",
        "Sample List : (8, 2, 3, 0, 7)\n",
        "\n",
        "Expected Output : 20"
      ],
      "metadata": {
        "id": "x3WTmSir-lbl"
      }
    },
    {
      "cell_type": "code",
      "source": [
        "def plus(lista):\n",
        "  result = 0\n",
        "  for i in lista:\n",
        "    result = result + i\n",
        "  return result"
      ],
      "metadata": {
        "id": "Gs-GcQJO3r0X"
      },
      "execution_count": 20,
      "outputs": []
    },
    {
      "cell_type": "markdown",
      "source": [
        "Write a Python function to multiply all the numbers in a list.\n",
        "\n",
        "Sample List : (8, 2, 3, -1, 7)\n",
        "\n",
        "Expected Output : -336"
      ],
      "metadata": {
        "id": "ohXduAyX-6UC"
      }
    },
    {
      "cell_type": "code",
      "source": [
        "def multiply(lista):\n",
        "  result = 1\n",
        "  for i in lista:\n",
        "    result = result * i\n",
        "  return result"
      ],
      "metadata": {
        "id": "heek-OWi4ASv"
      },
      "execution_count": 19,
      "outputs": []
    },
    {
      "cell_type": "markdown",
      "source": [
        "Write a Python program to reverse a string.\n",
        "\n",
        " Sample String : \"1234abcd\" \n",
        " \n",
        " Expected Output : \"dcba4321\""
      ],
      "metadata": {
        "id": "U0o7zlNL_8sO"
      }
    },
    {
      "cell_type": "code",
      "source": [
        "\n",
        "def reverse(string):\n",
        "  cad = \"\"\n",
        "  for i in range(len(string)):\n",
        "      cad = cad + string[-(i+1)]\n",
        "  return cad"
      ],
      "metadata": {
        "id": "gpGknu5f45K-"
      },
      "execution_count": 18,
      "outputs": []
    },
    {
      "cell_type": "markdown",
      "source": [
        "Write a Python function to calculate the factorial of a number (a non-negative integer). \n",
        "\n",
        "The function accepts the number as an argument."
      ],
      "metadata": {
        "id": "MMFx-H9THyQI"
      }
    },
    {
      "cell_type": "code",
      "source": [
        "\n",
        "def factorial(num):\n",
        "  if num == 0 :\n",
        "    return 1\n",
        "  else: \n",
        "    return num * factorial(num-1)"
      ],
      "metadata": {
        "id": "mJKPBtEB5KJf"
      },
      "execution_count": 17,
      "outputs": []
    },
    {
      "cell_type": "code",
      "source": [
        "#Write a Python function to check whether a number falls in a given range.\n",
        "def rangee(n):\n",
        "  if n in range(0,20):\n",
        "    print(n, \" is in the range\")\n",
        "  else:\n",
        "    print(\"the number is outside the given range\")"
      ],
      "metadata": {
        "id": "wdnnaxQy6Eu-"
      },
      "execution_count": 16,
      "outputs": []
    },
    {
      "cell_type": "markdown",
      "source": [
        "Write a Python function that accepts a string and calculate the number of upper case letters and lower case letters.\n",
        "\n",
        "Sample String : 'The quick Brow Fox'\n",
        "\n",
        "Expected Output :\n",
        "\n",
        "No. of Upper case characters : 3\n",
        "\n",
        "No. of Lower case Characters : 12 "
      ],
      "metadata": {
        "id": "6wToQ-uXGiZh"
      }
    },
    {
      "cell_type": "code",
      "source": [
        "\n",
        "def letters(letter):\n",
        "  upper = 0\n",
        "  lower = 0\n",
        "  for i in letter:\n",
        "    if i.isupper():\n",
        "      upper += 1\n",
        "    elif i.islower():\n",
        "      lower += 1\n",
        "    else:\n",
        "      pass\n",
        "  print(\"Original string is: \", letter)\n",
        "  print(\"Number of upper case characters is: \",upper)\n",
        "  print(\"Number of lower case characters is: \",lower)"
      ],
      "metadata": {
        "id": "-BG-YYiz7AI2"
      },
      "execution_count": 14,
      "outputs": []
    },
    {
      "cell_type": "markdown",
      "source": [
        "Write a Python function that takes a list and returns a new list with unique elements of the first list."
      ],
      "metadata": {
        "id": "5z26DwplOcv9"
      }
    },
    {
      "cell_type": "code",
      "source": [
        "def unique_list(listt):\n",
        "  newlist = []\n",
        "  for i in listt:\n",
        "    if i not in newlist:\n",
        "      newlist.append(a)\n",
        "  return newlist"
      ],
      "metadata": {
        "id": "ABZ7HSkt9wBm"
      },
      "execution_count": 22,
      "outputs": []
    },
    {
      "cell_type": "markdown",
      "source": [
        "Write a Python function that takes a number as a parameter and check the number is prime or not"
      ],
      "metadata": {
        "id": "OLyTw_6bOmhs"
      }
    },
    {
      "cell_type": "code",
      "source": [
        "def primeNumber(n):\n",
        "  if n == 1:\n",
        "    print(\"is not a prime number\")\n",
        "  elif n == 2:\n",
        "    print(\"is a primer number\")\n",
        "  else:\n",
        "    for i in range(2,n):\n",
        "      if(n % i == 0):\n",
        "        print(\"is not a prime number\")\n",
        "    print(\"is a primer number\")"
      ],
      "metadata": {
        "id": "9mpk3IizOmJc"
      },
      "execution_count": 37,
      "outputs": []
    },
    {
      "cell_type": "markdown",
      "source": [
        "Write a Python program to print the even numbers from a given list."
      ],
      "metadata": {
        "id": "fKAbB557Qg_T"
      }
    },
    {
      "cell_type": "code",
      "source": [
        "def evenNumbers(l):\n",
        "  nl = []\n",
        "  for i in l:\n",
        "    if i % 2  ==0:\n",
        "      nl.append(i)\n",
        "  return nl"
      ],
      "metadata": {
        "colab": {
          "base_uri": "https://localhost:8080/"
        },
        "id": "OqGlqx_kQjpr",
        "outputId": "914f15cf-607c-475c-ef24-f80e4971fea3"
      },
      "execution_count": 40,
      "outputs": [
        {
          "output_type": "execute_result",
          "data": {
            "text/plain": [
              "[2, 4, 6, 8]"
            ]
          },
          "metadata": {},
          "execution_count": 40
        }
      ]
    },
    {
      "cell_type": "markdown",
      "source": [
        "Write a Python function to check whether a number is perfect or not.\n",
        "\n",
        "According to Wikipedia : In number theory, a perfect number is a positive integer that is equal to the sum of its proper positive divisors, that is, the sum of its positive divisors excluding the number itself (also known as its aliquot sum). Equivalently, a perfect number is a number that is half the sum of all of its positive divisors (including itself).\n",
        "Example : The first perfect number is 6, because 1, 2, and 3 are its proper positive divisors, and 1 + 2 + 3 = 6. Equivalently, the number 6 is equal to half the sum of all its positive divisors: ( 1 + 2 + 3 + 6 ) / 2 = 6. The next perfect number is 28 = 1 + 2 + 4 + 7 + 14. This is followed by the perfect numbers 496 and 8128."
      ],
      "metadata": {
        "id": "dh-15N6eVSNS"
      }
    },
    {
      "cell_type": "code",
      "source": [
        "def perfect_number(number):\n",
        "    sum = 0\n",
        "    for i  in range(1, number):\n",
        "        if number % i == 0:\n",
        "            sum += i\n",
        "    return sum == number"
      ],
      "metadata": {
        "id": "E_k_vTYOUyqp"
      },
      "execution_count": null,
      "outputs": []
    },
    {
      "cell_type": "markdown",
      "source": [
        "Write a Python function that checks whether a passed string is palindrome or not.\n",
        "\n",
        "Note: A palindrome is a word, phrase, or sequence that reads the same backward as forward, e.g., madam or nurses run."
      ],
      "metadata": {
        "id": "QM6Dt_6KZnVj"
      }
    },
    {
      "cell_type": "code",
      "source": [
        "def isPalindrome(string):\n",
        "\tleft_pos = 0\n",
        "\tright_pos = len(string) - 1\n",
        "\twhile right_pos >= left_pos:\n",
        "\t\tif not string[left_pos] == string[right_pos]:\n",
        "\t\t\treturn print(\"Not is palindrome\")\n",
        "\t\tleft_pos += 1\n",
        "\t\tright_pos -= 1\n",
        "\treturn print(\"Is palindrome\")"
      ],
      "metadata": {
        "colab": {
          "base_uri": "https://localhost:8080/"
        },
        "id": "0oLLLnj2Zlwb",
        "outputId": "e868f74a-361e-4fae-e2cc-316611fc612d"
      },
      "execution_count": 52,
      "outputs": [
        {
          "output_type": "stream",
          "name": "stdout",
          "text": [
            "Is palindrome\n"
          ]
        }
      ]
    },
    {
      "cell_type": "markdown",
      "source": [
        "Write a Python function that prints out the first n rows of Pascal's triangle.\n",
        "\n",
        "Note : Pascal's triangle is an arithmetic and geometric figure first imagined by Blaise Pascal."
      ],
      "metadata": {
        "id": "n2ZrgZapZ5zr"
      }
    },
    {
      "cell_type": "code",
      "source": [
        "def pascal_triangle(n):\n",
        "   trow = [1]\n",
        "   y = [0]\n",
        "   for x in range(max(n,0)):\n",
        "      print(trow)\n",
        "      trow=[l+r for l,r in zip(trow+y, y+trow)]\n",
        "   return n>=1\n",
        "pascal_triangle(6) "
      ],
      "metadata": {
        "colab": {
          "base_uri": "https://localhost:8080/"
        },
        "id": "-9IOY8W7ZwWU",
        "outputId": "3584367f-0436-467b-be8f-9c6d72ea9f9c"
      },
      "execution_count": 43,
      "outputs": [
        {
          "output_type": "stream",
          "name": "stdout",
          "text": [
            "[1]\n",
            "[1, 1]\n",
            "[1, 2, 1]\n",
            "[1, 3, 3, 1]\n",
            "[1, 4, 6, 4, 1]\n",
            "[1, 5, 10, 10, 5, 1]\n"
          ]
        },
        {
          "output_type": "execute_result",
          "data": {
            "text/plain": [
              "True"
            ]
          },
          "metadata": {},
          "execution_count": 43
        }
      ]
    },
    {
      "cell_type": "markdown",
      "source": [
        "Write a Python function to check whether a string is a pangram or not.\n",
        "\n",
        "Note : Pangrams are words or sentences containing every letter of the alphabet at least once.\n",
        "\n",
        "For example : \"The quick brown fox jumps over the lazy dog\""
      ],
      "metadata": {
        "id": "9mcNxjlmaYRU"
      }
    },
    {
      "cell_type": "code",
      "source": [
        "import string, sys\n",
        "def ispangram(str1, alphabet=string.ascii_lowercase):\n",
        "    alphaset = set(alphabet)\n",
        "    return alphaset <= set(str1.lower())"
      ],
      "metadata": {
        "id": "dRzqNXNSadnp"
      },
      "execution_count": 62,
      "outputs": []
    },
    {
      "cell_type": "markdown",
      "source": [
        "Write a Python program that accepts a hyphen-separated sequence of words as input and prints the words in a hyphen-separated sequence after sorting them alphabetically.\n",
        "\n",
        "Sample Items : green-red-yellow-black-white\n",
        "\n",
        "Expected Result : black-green-red-white-yellow"
      ],
      "metadata": {
        "id": "0mDLMjdhbDvz"
      }
    },
    {
      "cell_type": "code",
      "source": [
        "def alphabetically():\n",
        "  items=[i for i in input().split('-')]\n",
        "  items.sort()\n",
        "  print('-'.join(items))"
      ],
      "metadata": {
        "id": "4lFPeaoQbIJj"
      },
      "execution_count": 71,
      "outputs": []
    },
    {
      "cell_type": "markdown",
      "source": [
        "Write a Python function to create and print a list where the values are square of numbers between 1 and 30"
      ],
      "metadata": {
        "id": "IBCMqxNGdm4Z"
      }
    },
    {
      "cell_type": "code",
      "source": [
        "def printVal():\n",
        "  li = list()\n",
        "  for i in range(1,31):\n",
        "    li.append(i**2)\n",
        "  print(li)"
      ],
      "metadata": {
        "id": "TW2cg42AdnhB"
      },
      "execution_count": null,
      "outputs": []
    },
    {
      "cell_type": "markdown",
      "source": [
        "Write a Python program to access a function inside a function."
      ],
      "metadata": {
        "id": "-12PbnbGfBmw"
      }
    },
    {
      "cell_type": "code",
      "source": [
        "def funTest(a):\n",
        "  def addition(b):\n",
        "    nonlocal a\n",
        "    sum = a + b\n",
        "    return sum\n",
        "  return addition"
      ],
      "metadata": {
        "id": "7hp5XF7AeDmh"
      },
      "execution_count": 78,
      "outputs": []
    },
    {
      "cell_type": "markdown",
      "source": [
        "1.Write a Python program to detect the number of local variables declared in a function.\n",
        "Sample Output:\n"
      ],
      "metadata": {
        "id": "2J-Ow_T9SaPT"
      }
    },
    {
      "cell_type": "code",
      "source": [
        "def localVar():\n",
        "    x = 1\n",
        "    y = 2\n",
        "    str1= \"oal\"\n",
        "    print(\"Python challenge\")\n",
        "\n",
        "print(localVar.__code__.co_nlocals)"
      ],
      "metadata": {
        "colab": {
          "base_uri": "https://localhost:8080/"
        },
        "id": "AmEAHN4YSb6K",
        "outputId": "8230f223-b970-4893-b4f7-67f48509baec"
      },
      "execution_count": 42,
      "outputs": [
        {
          "output_type": "stream",
          "name": "stdout",
          "text": [
            "3\n"
          ]
        }
      ]
    },
    {
      "cell_type": "markdown",
      "source": [
        "Write a Python program that invoke a given function after specific milliseconds."
      ],
      "metadata": {
        "id": "9S-fZ6YUfKAp"
      }
    },
    {
      "cell_type": "code",
      "source": [
        "from time import sleep\n",
        "import math\n",
        "def delay(fn, ms, *args):\n",
        "  sleep(ms / 1000)\n",
        "  return fn(*args)\n",
        "\n",
        "print(\"Square root after specific miliseconds:\") \n",
        "print(delay(lambda x: math.sqrt(x), 100, 16))\n",
        "print(delay(lambda x: math.sqrt(x), 500, 100))\n",
        "print(delay(lambda x: math.sqrt(x), 100, 500))"
      ],
      "metadata": {
        "colab": {
          "base_uri": "https://localhost:8080/"
        },
        "id": "PSS2l3ZsfG_5",
        "outputId": "ad8ae4f2-e4cf-4b16-8a6e-73cc5069db8f"
      },
      "execution_count": 86,
      "outputs": [
        {
          "output_type": "stream",
          "name": "stdout",
          "text": [
            "Square root after specific miliseconds:\n",
            "4.0\n",
            "10.0\n",
            "22.360679774997898\n"
          ]
        }
      ]
    }
  ]
}