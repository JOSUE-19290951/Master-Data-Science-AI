{
  "cells": [
    {
      "cell_type": "markdown",
      "metadata": {
        "id": "view-in-github",
        "colab_type": "text"
      },
      "source": [
        "<a href=\"https://colab.research.google.com/github/JOSUE-19290951/Master-Data-Science-AI/blob/main/Challenge_POO.ipynb\" target=\"_parent\"><img src=\"https://colab.research.google.com/assets/colab-badge.svg\" alt=\"Open In Colab\"/></a>"
      ]
    },
    {
      "cell_type": "markdown",
      "metadata": {
        "id": "4EFGoEpOl5J9"
      },
      "source": [
        "##Ejercicio 1\n",
        "Realizar un programa que conste de una clase llamada Alumno que tenga como atributos el nombre y la nota del alumno. Definir los métodos para inicializar sus atributos, imprimirlos y mostrar un mensaje con el resultado de la nota y si ha aprobado o no.\n"
      ]
    },
    {
      "cell_type": "code",
      "execution_count": null,
      "metadata": {
        "colab": {
          "base_uri": "https://localhost:8080/",
          "height": 53
        },
        "id": "P9ullKnYnFfF",
        "outputId": "7e3f6ef6-7c59-4704-f832-6df97588d4bf"
      },
      "outputs": [
        {
          "name": "stdout",
          "output_type": "stream",
          "text": [
            "John\n"
          ]
        },
        {
          "data": {
            "application/vnd.google.colaboratory.intrinsic+json": {
              "type": "string"
            },
            "text/plain": [
              "'Aprobado'"
            ]
          },
          "execution_count": 15,
          "metadata": {},
          "output_type": "execute_result"
        }
      ],
      "source": [
        "class Alumno:\n",
        "  def __init__(self,nombre,nota):\n",
        "    self.nombre = nombre\n",
        "    self.nota = nota\n",
        "  \n",
        "  def imprimir(self):\n",
        "    print(self.nombre)\n",
        "    if self.nota > 6:\n",
        "      return f\"Aprobado\"\n",
        "    else:\n",
        "      return f\"Reprobado\"\n",
        "p1 = Alumno(\"John\",10)\n",
        "p1.imprimir()"
      ]
    },
    {
      "cell_type": "markdown",
      "metadata": {
        "id": "b_bGLJVvmDb5"
      },
      "source": [
        "##Ejercicio 2\n",
        "Realizar un programa que tenga una clase Persona con las siguientes características. La clase tendrá como atributos el nombre y la edad de una persona. Implementar los métodos necesarios para inicializar los atributos, mostrar los datos e indicar si la persona es mayor de edad o no.\n"
      ]
    },
    {
      "cell_type": "code",
      "execution_count": null,
      "metadata": {
        "colab": {
          "base_uri": "https://localhost:8080/",
          "height": 53
        },
        "id": "t_Kbaj2EnF9N",
        "outputId": "362214ac-706c-422d-acf0-31ac62e536ec"
      },
      "outputs": [
        {
          "name": "stdout",
          "output_type": "stream",
          "text": [
            "John\n"
          ]
        },
        {
          "data": {
            "application/vnd.google.colaboratory.intrinsic+json": {
              "type": "string"
            },
            "text/plain": [
              "'John es mayor de edad teniendo 30 años'"
            ]
          },
          "execution_count": 18,
          "metadata": {},
          "output_type": "execute_result"
        }
      ],
      "source": [
        "class Persona:\n",
        "  def __init__(self,nombre,edad):\n",
        "    self.nombre = nombre\n",
        "    self.edad = edad\n",
        "  def imprimir(self):\n",
        "    print(self.nombre)\n",
        "    if self.edad >= 18:\n",
        "      return f\"{self.nombre} es mayor de edad teniendo {self.edad} años\"\n",
        "    else:\n",
        "      return f\"{self.nombre} es menor de edad teniendo {self.edad} años\"\n",
        "p1 = Persona(\"John\",30)\n",
        "p1.imprimir()"
      ]
    },
    {
      "cell_type": "markdown",
      "metadata": {
        "id": "Esf21Be0mTBn"
      },
      "source": [
        "##Ejercicio 3\n",
        "Desarrollar un programa que cargue los datos de un triángulo. Implementar una clase con los métodos para inicializar los atributos, imprimir el valor del lado con un tamaño mayor y  el tipo de triángulo que es (equilátero, isósceles o escaleno).\n"
      ]
    },
    {
      "cell_type": "code",
      "execution_count": null,
      "metadata": {
        "colab": {
          "base_uri": "https://localhost:8080/",
          "height": 53
        },
        "id": "sPqi1jqCnGfD",
        "outputId": "c13023dc-d696-479f-a3c9-e83a1c34a067"
      },
      "outputs": [
        {
          "name": "stdout",
          "output_type": "stream",
          "text": [
            "7\n"
          ]
        },
        {
          "data": {
            "application/vnd.google.colaboratory.intrinsic+json": {
              "type": "string"
            },
            "text/plain": [
              "'Es un triangulo escaleno'"
            ]
          },
          "execution_count": 21,
          "metadata": {},
          "output_type": "execute_result"
        }
      ],
      "source": [
        "class Triangulo:\n",
        "  def __init__(self, a, b, c):\n",
        "    self.a = a\n",
        "    self.b = b\n",
        "    self.c = c\n",
        "    \n",
        "  def tipoTriangulo(self):\n",
        "    print(max(self.a,self.b,self.c))\n",
        "       \n",
        "    if self.a == self.b and self.b == self.c:\n",
        "        return f\"Es un triangulo equilatero\"\n",
        "    elif self.a == self.b or self.a == self.c or self.b == self.c:\n",
        "        return f\"Es un triangulo isóceles\"\n",
        "    else:\n",
        "        return f\"Es un triangulo escaleno\"\n",
        "\n",
        "t1 = Triangulo(3,5,7)\n",
        "t1.tipoTriangulo()\n"
      ]
    },
    {
      "cell_type": "markdown",
      "metadata": {
        "id": "FuDVAwyLmXM_"
      },
      "source": [
        "##Ejercicio 4\n",
        "Realizar un programa en el cual se declaren dos valores enteros por teclado utilizando el método __init__. Calcular después la suma, resta, multiplicación y división. Utilizar un método para cada una e imprimir los resultados obtenidos. Llamar a la clase Calculadora."
      ]
    },
    {
      "cell_type": "code",
      "execution_count": null,
      "metadata": {
        "colab": {
          "base_uri": "https://localhost:8080/"
        },
        "id": "VnFcFidTnG-O",
        "outputId": "fdb2eb48-546b-44c0-9946-74f233ab0c04"
      },
      "outputs": [
        {
          "name": "stdout",
          "output_type": "stream",
          "text": [
            "ingresa un numero3\n",
            "ingresa otro numero2\n",
            "5.0\n",
            "1.0\n",
            "6.0\n",
            "1.5\n"
          ]
        }
      ],
      "source": [
        "class Calculadora:\n",
        "  def __init__(self,int1, int2):\n",
        "    self.int1 = int1\n",
        "    self.int2 = int2\n",
        "\n",
        "  def suma(self):\n",
        "    return self.int1 + self.int2\n",
        "\n",
        "  def resta(self):\n",
        "    return self.int1 - self.int2\n",
        "  \n",
        "  def multiplicacion(self):\n",
        "    return self.int1 * self.int2\n",
        "  \n",
        "  def division(self):\n",
        "    if self.int2 !=0:\n",
        "      return self.int1 / self.int2\n",
        "    else:\n",
        "      return \"Amsiedad\"\n",
        "num1 = float(input(\"ingresa un numero \"))\n",
        "num2 = input(\"ingresa otro numero \")\n",
        "num2 = float(num2)\n",
        "\n",
        "cal = Calculadora(num1,num2)\n",
        "print(cal.suma())\n",
        "print(cal.resta())\n",
        "print(cal.multiplicacion())\n",
        "print(cal.division())"
      ]
    },
    {
      "cell_type": "markdown",
      "metadata": {
        "id": "NmarrIA6mdo5"
      },
      "source": [
        "##Ejercicio 5\n",
        "Realizar una clase que administre una agenda. Se debe almacenar para cada contacto el nombre, el teléfono y el email. Además deberá mostrar un menú con las siguientes opciones\n",
        "\n",
        "\n",
        "\n",
        "*   Añadir contacto\n",
        "*   Lista de contactos\n",
        "*   Buscar contacto\n",
        "*   Editar contacto\n",
        "*   Cerrar agenda"
      ]
    },
    {
      "cell_type": "code",
      "execution_count": null,
      "metadata": {
        "id": "hvhudvVInHpR"
      },
      "outputs": [],
      "source": [
        "class Agenda:\n",
        "  def __init__(self):\n",
        "    self.nombres = []\n",
        "  \n",
        "  def menu(self):\n",
        "    print()\n",
        "    menu=[\n",
        "\t\t\t['Agenda Personal'],\n",
        "\t\t\t['1. Añadir Contacto',\"anadir\"],\n",
        "\t\t\t['2. Lista de contactos'],\n",
        "\t\t\t['3. Buscar contacto'],\n",
        "\t\t\t['4. Editar contacto'],\n",
        "\t\t\t['5. Cerrar agenda']\n",
        "    ]\n",
        " \n",
        "    for x in range(6):\n",
        "      print(menu[x][0])\n",
        " \n",
        "    opcion=int(input(\"Introduzca la opción deseada: \")) \n",
        "    if opcion==1:\n",
        "      self.nuevoContacto()\n",
        "    elif opcion==2:\n",
        "      self.listaContacto()\n",
        "    elif opcion==3:\n",
        "      self.buscarContacto()\n",
        "    elif opcion==4:\n",
        "      self.editarContacto()\n",
        "    elif opcion==5:\n",
        "      print(\"Sayonara uwu\")\n",
        "      exit()\n",
        "   \n",
        "    self.menu()\n",
        "  \n",
        "  def nuevoContacto(self):\n",
        "    print(\"---Añadir Contacto----\")\n",
        "    nombre = input(\"Ingrese su nombre: \")\n",
        "    telefono = input(\"Ingrese su telefono: \")\n",
        "    email = input(\"Introduzca su email:\")\n",
        "    self.nombres.append({\"Nombre\":nombre, \"Telefono\":telefono, \"Email\":email})\n",
        "\n",
        "  def listaContacto(self):\n",
        "    if(len(self.nombres))==0:\n",
        "      print(\"La agenda está vacía\")\n",
        "    else:\n",
        "      for i in range(len(self.nombres)):\n",
        "        print(\"Nombre: \",self.nombres[i]['Nombre'])\n",
        "        print(\"Telefono: \",self.nombres[i]['Telefono'])\n",
        "        print(\"Email: \",self.nombres[i]['Email'])\n",
        "        print()\n",
        "\n",
        "  def buscarContacto(self):\n",
        "    nombre = input(\"Ingresa el nombre a buscar: \")\n",
        "    for i in range(len(self.nombres)):\n",
        "      if nombre == self.nombres[i]['Nombre']:\n",
        "        print(\"Nombre: \",self.nombres[i]['Nombre'])\n",
        "        print(\"Telefono: \",self.nombres[i]['Telefono'])\n",
        "        print(\"Email: \",self.nombres[i]['Email'])\n",
        "        print()\n",
        "      else:\n",
        "        print(\"El nombre no esta disponible o no existe\")\n",
        "  def editarContacto(self):\n",
        "    print(\"Editar contacto\")\n",
        "    datos= self.buscarContacto()\n",
        "    condition=False\n",
        "    while condition==False:\n",
        "      print(\"Selecciona que quieres editar: \")\n",
        "      print(\"1. Nombre\")\n",
        "      print(\"2. Teléfono\")\n",
        "      print(\"3. E-mail\")\n",
        "      print(\"4. Volver\")\n",
        "      option=int(input(\"Introduzca la opción deseada: \"))\n",
        "      if option==1:\n",
        "        nombre=input(\"Introduzca el nuevo nombre: \")\n",
        "        self.nombres[datos]['nombre']=nombre\n",
        "      elif option==2:\n",
        "        telefono=input(\"Introduzca el nuevo teléfono: \")\n",
        "        self.nombres[datos]['telefono']=telefono\n",
        "      elif option==3:\n",
        "        email=input(\"Introduzca el nuevo email: \")\n",
        "        self.nombres[datos]['email']=email\n",
        "      elif option==4:\n",
        "        condition=True\n",
        "    \n",
        "ag1 = Agenda()\n",
        "ag1.menu()\n"
      ]
    },
    {
      "cell_type": "markdown",
      "metadata": {
        "id": "pIFlDlAnmyyh"
      },
      "source": [
        "##Ejercicio 6\n",
        "En un banco tienen clientes que pueden hacer depósitos y extracciones de dinero. El banco requiere también al final del día calcular la cantidad de dinero que se ha depositado.\n",
        "\n",
        "Se deberán crear dos clases, la clase cliente y la clase banco. La clase cliente tendrá los atributos nombre y cantidad y los métodos __init__, depositar, extraer, mostrar_total.\n",
        "\n",
        "La clase banco tendrá como atributos 3 objetos de la clase cliente y los métodos __init__, operar y deposito_total."
      ]
    },
    {
      "cell_type": "code",
      "execution_count": null,
      "metadata": {
        "colab": {
          "base_uri": "https://localhost:8080/"
        },
        "id": "7gjXBfvCnIQJ",
        "outputId": "f8fc0f9c-bbd8-4c24-958c-565fc13ae4a7"
      },
      "outputs": [
        {
          "name": "stdout",
          "output_type": "stream",
          "text": [
            "El total de dinero que hay en el banco es:  1370\n",
            "Josuié  tiene depositada una cantidad de  520\n",
            "Luis  tiene depositada una cantidad de  600\n",
            "Angélica  tiene depositada una cantidad de  250\n"
          ]
        }
      ],
      "source": [
        "class Banco:\n",
        "\tdef __init__(self):\n",
        "\t\tself.cliente1=Cliente(\"Josuié\")\n",
        "\t\tself.cliente2=Cliente(\"Luis\")\n",
        "\t\tself.cliente3=Cliente(\"Angélica\")\n",
        " \n",
        "\tdef operar(self):\n",
        "\t\tself.cliente1.depositar(1500)\n",
        "\t\tself.cliente2.depositar(600)\n",
        "\t\tself.cliente3.depositar(250)\n",
        "\t\tself.cliente1.extraer(980)\n",
        " \n",
        "\tdef deposito_total(self):\n",
        "\t\ttotal=self.cliente1.mostrar_total()+self.cliente2.mostrar_total()+self.cliente3.mostrar_total()\n",
        "\t\tprint(\"El total de dinero que hay en el banco es: \",total)\n",
        "\t\tself.cliente1.imprimir()\n",
        "\t\tself.cliente2.imprimir()\n",
        "\t\tself.cliente3.imprimir()\n",
        "\n",
        "class Cliente:\n",
        "\tdef __init__(self,nombre):\n",
        "\t\tself.nombre=nombre\n",
        "\t\tself.cantidad=0\n",
        " \n",
        "\tdef depositar(self,cantidad):\n",
        "\t\tself.cantidad+=cantidad\n",
        "\n",
        "\tdef extraer(self,cantidad):\n",
        "\t\tself.cantidad-=cantidad\n",
        "\n",
        "\tdef mostrar_total(self):\n",
        "\t\treturn self.cantidad\n",
        "\n",
        "\tdef imprimir(self):\n",
        "\t\tprint(self.nombre, \" tiene depositada una cantidad de \",self.cantidad)\n",
        " \n",
        "banco1=Banco()\n",
        "banco1.operar()\n",
        "banco1.deposito_total()"
      ]
    },
    {
      "cell_type": "markdown",
      "metadata": {
        "id": "B7ZTRLdum2NG"
      },
      "source": [
        "##Ejercicio 7\n",
        "Desarrollar un programa que conste de una clase padre Cuenta y dos subclases PlazoFijo y CajaAhorro. Definir los atributos titular y cantidad y un método para imprimir los datos en la clase Cuenta. La clase CajaAhorro tendrá un método para heredar los datos y uno para mostrar la información.\n",
        "\n",
        "La clase PlazoFijo tendrá dos atributos propios, plazo e interés. Tendrá un método para obtener el importe del interés (cantidad*interés/100) y otro método para mostrar la información, datos del titular plazo, interés y total de interés.\n",
        "\n",
        "Crear al menos un objeto de cada subclase.\n",
        "\n"
      ]
    },
    {
      "cell_type": "code",
      "execution_count": null,
      "metadata": {
        "colab": {
          "background_save": true
        },
        "id": "F2wvhFNYnI2Z",
        "outputId": "bc10e010-05c3-4904-b276-b0f38bfddbb9"
      },
      "outputs": [
        {
          "name": "stdout",
          "output_type": "stream",
          "text": [
            "Cuenta de caja de ahorros\n",
            "Titular:  Josue\n",
            "Cantidad:  4300\n",
            "Cuenta a plazo fijo\n",
            "Titular:  Angelica\n",
            "Cantidad:  7500\n",
            "Plazo disponible en días:  365\n",
            "Interés:  3.4\n",
            "El importe de interés es:  255.0\n"
          ]
        }
      ],
      "source": [
        "class Cuenta:\n",
        "\tdef __init__(self,titular,cantidad):\n",
        "\t\tself.titular=titular\n",
        "\t\tself.cantidad=cantidad\n",
        " \n",
        "\tdef imprimir(self):\n",
        "\t\tprint(\"Titular: \",self.titular)\n",
        "\t\tprint(\"Cantidad: \", self.cantidad)\n",
        " \n",
        "class CajaAhorro(Cuenta):\n",
        "\tdef __init__(self,titular,cantidad):\n",
        "\t\tsuper().__init__(titular,cantidad)\n",
        "\n",
        "\tdef imprimir(self):\n",
        "\t\tprint(\"Cuenta de caja de ahorros\")\n",
        "\t\tsuper().imprimir()\n",
        " \n",
        "class PlazoFijo(Cuenta):\n",
        "\tdef __init__(self,titular,cantidad,plazo,interes):\n",
        "\t\tsuper().__init__(titular,cantidad)\n",
        "\t\tself.plazo=plazo\n",
        "\t\tself.interes=interes\n",
        " \n",
        "\tdef ganancia(self):\n",
        "\t\tganancia=self.cantidad*self.interes/100\n",
        "\t\tprint(\"El importe de interés es: \",ganancia)\n",
        " \n",
        "\tdef imprimir(self):\n",
        "\t\tprint(\"Cuenta a plazo fijo\")\n",
        "\t\tsuper().imprimir()\n",
        "\t\tprint(\"Plazo disponible en días: \",self.plazo)\n",
        "\t\tprint(\"Interés: \",self.interes)\n",
        "\t\tself.ganancia()\n",
        " \n",
        " \n",
        "caja1=CajaAhorro(\"Josue\",4300)\n",
        "caja1.imprimir()\n",
        " \n",
        "plazo1=PlazoFijo(\"Angelica\",7500,365,3.4)\n",
        "plazo1.imprimir()"
      ]
    }
  ],
  "metadata": {
    "colab": {
      "collapsed_sections": [],
      "name": "Copia de Challenge POO.ipynb",
      "provenance": [],
      "include_colab_link": true
    },
    "kernelspec": {
      "display_name": "Python 3",
      "name": "python3"
    },
    "language_info": {
      "name": "python"
    }
  },
  "nbformat": 4,
  "nbformat_minor": 0
}